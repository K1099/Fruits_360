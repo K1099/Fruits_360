{
 "cells": [
  {
   "cell_type": "markdown",
   "metadata": {
    "pycharm": {
     "is_executing": false
    }
   },
   "source": [
    "# Fruits 360\n",
    "\n",
    "This uses the weight trained in 'fruits.py' to predict the images in the folder fruits/test_images"
   ]
  },
  {
   "cell_type": "code",
   "execution_count": 1,
   "metadata": {},
   "outputs": [],
   "source": [
    "def no_warn():\n",
    "    import warnings\n",
    "\n",
    "    def fxn():\n",
    "        warnings.warn(\"deprecated\", DeprecationWarning)\n",
    "\n",
    "    with warnings.catch_warnings(record=True) as w:\n",
    "        # Cause all warnings to always be triggered.\n",
    "        warnings.simplefilter(\"always\")\n",
    "        # Trigger a warning.\n",
    "        fxn()\n",
    "        # Verify some things\n",
    "        assert len(w) == 1\n",
    "        assert issubclass(w[-1].category, DeprecationWarning)\n",
    "        assert \"deprecated\" in str(w[-1].message)"
   ]
  },
  {
   "cell_type": "code",
   "execution_count": 2,
   "metadata": {},
   "outputs": [
    {
     "name": "stderr",
     "output_type": "stream",
     "text": [
      "Using TensorFlow backend.\n"
     ]
    }
   ],
   "source": [
    "from keras.models import load_model\n",
    "from keras.preprocessing import image\n",
    "import os\n",
    "import numpy as np\n",
    "import matplotlib.pyplot as plt\n",
    "no_warn()"
   ]
  },
  {
   "cell_type": "markdown",
   "metadata": {},
   "source": [
    "Loading the Weight into the model (Weight is a h5 file)"
   ]
  },
  {
   "cell_type": "code",
   "execution_count": 3,
   "metadata": {
    "collapsed": false,
    "jupyter": {
     "outputs_hidden": false
    },
    "pycharm": {
     "is_executing": false,
     "name": "#%%\n"
    }
   },
   "outputs": [],
   "source": [
    "model = load_model('Fruits_360.h5')\n",
    "no_warn()"
   ]
  },
  {
   "cell_type": "markdown",
   "metadata": {},
   "source": [
    "The Layout of the model."
   ]
  },
  {
   "cell_type": "code",
   "execution_count": 4,
   "metadata": {
    "collapsed": false,
    "jupyter": {
     "outputs_hidden": false
    },
    "pycharm": {
     "is_executing": false,
     "name": "#%%\n"
    }
   },
   "outputs": [
    {
     "name": "stdout",
     "output_type": "stream",
     "text": [
      "Model: \"sequential_1\"\n",
      "_________________________________________________________________\n",
      "Layer (type)                 Output Shape              Param #   \n",
      "=================================================================\n",
      "conv2d_1 (Conv2D)            (None, 96, 96, 16)        1216      \n",
      "_________________________________________________________________\n",
      "max_pooling2d_1 (MaxPooling2 (None, 48, 48, 16)        0         \n",
      "_________________________________________________________________\n",
      "dropout_1 (Dropout)          (None, 48, 48, 16)        0         \n",
      "_________________________________________________________________\n",
      "conv2d_2 (Conv2D)            (None, 44, 44, 32)        12832     \n",
      "_________________________________________________________________\n",
      "max_pooling2d_2 (MaxPooling2 (None, 22, 22, 32)        0         \n",
      "_________________________________________________________________\n",
      "dropout_2 (Dropout)          (None, 22, 22, 32)        0         \n",
      "_________________________________________________________________\n",
      "conv2d_3 (Conv2D)            (None, 18, 18, 64)        51264     \n",
      "_________________________________________________________________\n",
      "max_pooling2d_3 (MaxPooling2 (None, 9, 9, 64)          0         \n",
      "_________________________________________________________________\n",
      "dropout_3 (Dropout)          (None, 9, 9, 64)          0         \n",
      "_________________________________________________________________\n",
      "conv2d_4 (Conv2D)            (None, 5, 5, 128)         204928    \n",
      "_________________________________________________________________\n",
      "max_pooling2d_4 (MaxPooling2 (None, 2, 2, 128)         0         \n",
      "_________________________________________________________________\n",
      "dropout_4 (Dropout)          (None, 2, 2, 128)         0         \n",
      "_________________________________________________________________\n",
      "flatten_1 (Flatten)          (None, 512)               0         \n",
      "_________________________________________________________________\n",
      "dense_1 (Dense)              (None, 1024)              525312    \n",
      "_________________________________________________________________\n",
      "dropout_5 (Dropout)          (None, 1024)              0         \n",
      "_________________________________________________________________\n",
      "dense_2 (Dense)              (None, 256)               262400    \n",
      "_________________________________________________________________\n",
      "dropout_6 (Dropout)          (None, 256)               0         \n",
      "_________________________________________________________________\n",
      "dense_3 (Dense)              (None, 70)                17990     \n",
      "=================================================================\n",
      "Total params: 1,075,942\n",
      "Trainable params: 1,075,942\n",
      "Non-trainable params: 0\n",
      "_________________________________________________________________\n"
     ]
    }
   ],
   "source": [
    "model.summary()"
   ]
  },
  {
   "cell_type": "markdown",
   "metadata": {},
   "source": [
    "Class to predict the images, you only need to call the function read_images to read the iamges, and then the predict funciton."
   ]
  },
  {
   "cell_type": "code",
   "execution_count": 5,
   "metadata": {},
   "outputs": [],
   "source": [
    "class Fruit:\n",
    "    \n",
    "    def __init__(self, img_dir = ''):\n",
    "        self.img_dir = img_dir\n",
    "        self.cnt = 0\n",
    "        self.batch_holder = None\n",
    "        self.model = load_model('Fruits_360.h5')\n",
    "        self.Label_dict = labels =  {'Apple Braeburn': 0,\n",
    "             'Apple Golden': 1,\n",
    "             'Apple Granny Smith': 2,\n",
    "             'Apple Red': 3,\n",
    "             'Apricot': 4,\n",
    "             'Avocado': 5,\n",
    "             'Avocado ripe': 6,\n",
    "             'Banana': 7,\n",
    "             'Banana Lady Finger': 8,\n",
    "             'Banana Red': 9,\n",
    "             'Cactus fruit': 10,\n",
    "             'Cantaloupe 1': 11,\n",
    "             'Cantaloupe 2': 12,\n",
    "             'Carambula': 13,\n",
    "             'Cherry 1': 14,\n",
    "             'Cherry Wax Black': 15,\n",
    "             'Cherry Wax Red': 16,\n",
    "             'Cherry Wax Yellow': 17,\n",
    "             'Chestnut': 18,\n",
    "             'Clementine': 19,\n",
    "             'Cocos': 20,\n",
    "             'Dates': 21,\n",
    "             'Grape Blue': 22,\n",
    "             'Grape Pink': 23,\n",
    "             'Grape White': 24,\n",
    "             'Grapefruit Pink': 25,\n",
    "             'Grapefruit White': 26,\n",
    "             'Guava': 27,\n",
    "             'Hazelnut': 28,\n",
    "             'Huckleberry': 29,\n",
    "             'Kaki': 30,\n",
    "             'Kiwi': 31,\n",
    "             'Kumquats': 32,\n",
    "             'Lemon': 33,\n",
    "             'Lemon Meyer': 34,\n",
    "             'Limes': 35,\n",
    "             'Lychee': 36,\n",
    "             'Mandarine': 37,\n",
    "             'Mango': 38,\n",
    "             'Mangostan': 39,\n",
    "             'Melon Piel de Sapo': 40,\n",
    "             'Mulberry': 41,\n",
    "             'Nectarine': 42,\n",
    "             'Orange': 43,\n",
    "             'Papaya': 44,\n",
    "             'Passion Fruit': 45,\n",
    "             'Peach': 46,\n",
    "             'Peach 2': 47,\n",
    "             'Peach Flat': 48,\n",
    "             'Pear': 49,\n",
    "             'Pear Kaiser': 50,\n",
    "             'Pineapple': 51,\n",
    "             'Pineapple Mini': 52,\n",
    "             'Pitahaya Red': 53,\n",
    "             'Plum': 54,\n",
    "             'Plum 2': 55,\n",
    "             'Plum 3': 56,\n",
    "             'Pomegranate': 57,\n",
    "             'Pomelo Sweetie': 58,\n",
    "             'Rambutan': 59,\n",
    "             'Raspberry': 60,\n",
    "             'Redcurrant': 61,\n",
    "             'Strawberry': 62,\n",
    "             'Strawberry Wedge': 63,\n",
    "             'Tomato 1': 64,\n",
    "             'Tomato 2': 65,\n",
    "             'Tomato 4': 66,\n",
    "             'Tomato Cherry Red': 67,\n",
    "             'Tomato Maroon': 68,\n",
    "             'Walnut': 69}\n",
    "        self.label = list(self.Label_dict.keys())\n",
    "    \n",
    "    def read_images(self):\n",
    "        self.cnt = len(os.listdir(self.img_dir))\n",
    "        self.batch_holder = np.zeros((self.cnt, 100, 100, 3))\n",
    "        for i,img in enumerate(os.listdir(self.img_dir)):\n",
    "            img = image.load_img(os.path.join(self.img_dir,img), target_size=(100, 100))\n",
    "            self.batch_holder[i, :] = img\n",
    "        return self.batch_holder\n",
    "    \n",
    "    def predict(self):\n",
    "        fig = plt.figure(figsize=(20, 20))\n",
    "        for i,img in enumerate(self.batch_holder):\n",
    "            fig.add_subplot(5, 5, i+1)\n",
    "            result=self.model.predict(self.batch_holder)\n",
    "            result_classes = result.argmax(axis=-1)\n",
    "            plt.title(self.label[result_classes[i]])\n",
    "            plt.tick_params(\n",
    "                axis='both',        \n",
    "                which='both',      \n",
    "                bottom=False,      \n",
    "                top=False,         \n",
    "                labelbottom=False,\n",
    "                labelleft=False)\n",
    "            plt.imshow(img/256.)\n",
    "        plt.show()"
   ]
  },
  {
   "cell_type": "markdown",
   "metadata": {},
   "source": [
    "Class takes a parameter -> location of  images that needs to be predicted. "
   ]
  },
  {
   "cell_type": "code",
   "execution_count": 6,
   "metadata": {},
   "outputs": [],
   "source": [
    "obj = Fruit('fruits//test_images//')"
   ]
  },
  {
   "cell_type": "code",
   "execution_count": null,
   "metadata": {},
   "outputs": [],
   "source": [
    "obj.read_images()\n",
    "obj.predict()"
   ]
  },
  {
   "cell_type": "code",
   "execution_count": null,
   "metadata": {},
   "outputs": [],
   "source": []
  },
  {
   "cell_type": "code",
   "execution_count": null,
   "metadata": {},
   "outputs": [],
   "source": []
  }
 ],
 "metadata": {
  "kernelspec": {
   "display_name": "Python 3",
   "language": "python",
   "name": "python3"
  },
  "language_info": {
   "codemirror_mode": {
    "name": "ipython",
    "version": 3
   },
   "file_extension": ".py",
   "mimetype": "text/x-python",
   "name": "python",
   "nbconvert_exporter": "python",
   "pygments_lexer": "ipython3",
   "version": "3.7.4"
  },
  "pycharm": {
   "stem_cell": {
    "cell_type": "raw",
    "metadata": {
     "collapsed": false
    },
    "source": []
   }
  }
 },
 "nbformat": 4,
 "nbformat_minor": 4
}
